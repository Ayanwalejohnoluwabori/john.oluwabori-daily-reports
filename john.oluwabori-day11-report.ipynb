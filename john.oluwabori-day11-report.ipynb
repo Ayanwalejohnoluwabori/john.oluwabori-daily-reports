{
 "cells": [
  {
   "cell_type": "markdown",
   "id": "946dcae8",
   "metadata": {},
   "source": [
    "# Practical_6: Numpy"
   ]
  },
  {
   "cell_type": "markdown",
   "id": "growing-jesus",
   "metadata": {},
   "source": [
    "---\n",
    "\n",
    "### Exercise 1:\n",
    "Create a NumPy array of integers from 1 to 10.\n",
    "\n",
    "```python\n",
    "# Exercise 1\n",
    "```"
   ]
  },
  {
   "cell_type": "code",
   "execution_count": 5,
   "id": "regulated-confidence",
   "metadata": {},
   "outputs": [
    {
     "name": "stdout",
     "output_type": "stream",
     "text": [
      "[ 1  2  3  4  5  6  7  8  9 10]\n"
     ]
    }
   ],
   "source": [
    "import numpy as np    #Numpy is imported\n",
    "x = np.arange(1,11)   # The range between 1 and 10 is printed\n",
    "print(x)"
   ]
  },
  {
   "cell_type": "markdown",
   "id": "consolidated-agency",
   "metadata": {},
   "source": [
    "---\n",
    "\n",
    "### Exercise 2:\n",
    "Create a 3x3 NumPy array filled with zeros.\n",
    "\n",
    "```python\n",
    "# Exercise 2\n",
    "```"
   ]
  },
  {
   "cell_type": "code",
   "execution_count": 7,
   "id": "beneficial-makeup",
   "metadata": {},
   "outputs": [
    {
     "name": "stdout",
     "output_type": "stream",
     "text": [
      "[[0. 0. 0.]\n",
      " [0. 0. 0.]\n",
      " [0. 0. 0.]]\n"
     ]
    }
   ],
   "source": [
    "a = np.zeros((3,3))   # this is to compute all zeros\n",
    "print(a)"
   ]
  },
  {
   "cell_type": "markdown",
   "id": "surgical-proposal",
   "metadata": {},
   "source": [
    "---\n",
    "\n",
    "### Exercise 3:\n",
    "Create a NumPy array of 10 evenly spaced numbers between 0 and 5.\n",
    "\n",
    "```python\n",
    "# Exercise 3\n",
    "```"
   ]
  },
  {
   "cell_type": "code",
   "execution_count": 12,
   "id": "cultural-comment",
   "metadata": {},
   "outputs": [
    {
     "name": "stdout",
     "output_type": "stream",
     "text": [
      "[0.         0.55555556 1.11111111 1.66666667 2.22222222 2.77777778\n",
      " 3.33333333 3.88888889 4.44444444 5.        ]\n"
     ]
    }
   ],
   "source": [
    "a = np.linspace(0, 5, 10)  # the difference between each number is the same\n",
    "print(a)"
   ]
  },
  {
   "cell_type": "markdown",
   "id": "leading-fishing",
   "metadata": {},
   "source": [
    "---\n",
    "\n",
    "### Exercise 4:\n",
    "Create a 5x5 identity matrix using NumPy.\n",
    "\n",
    "```python\n",
    "# Exercise 4\n",
    "```"
   ]
  },
  {
   "cell_type": "code",
   "execution_count": 14,
   "id": "meaningful-assessment",
   "metadata": {},
   "outputs": [
    {
     "name": "stdout",
     "output_type": "stream",
     "text": [
      "[[1. 0. 0. 0. 0.]\n",
      " [0. 1. 0. 0. 0.]\n",
      " [0. 0. 1. 0. 0.]\n",
      " [0. 0. 0. 1. 0.]\n",
      " [0. 0. 0. 0. 1.]]\n"
     ]
    }
   ],
   "source": [
    "a = np.eye(5,5)    # to compute identity matrix, it must have values aside zero at the diagonal\n",
    "print(a)"
   ]
  },
  {
   "cell_type": "markdown",
   "id": "advance-insight",
   "metadata": {},
   "source": [
    "---\n",
    "\n",
    "### Exercise 5:\n",
    "Create a 4x4 matrix with random values between 0 and 1.\n",
    "\n",
    "```python\n",
    "# Exercise 5\n",
    "```"
   ]
  },
  {
   "cell_type": "code",
   "execution_count": 25,
   "id": "cutting-physics",
   "metadata": {},
   "outputs": [
    {
     "name": "stdout",
     "output_type": "stream",
     "text": [
      "[[1. 0. 0. 0.]\n",
      " [0. 1. 0. 0.]\n",
      " [0. 0. 1. 0.]\n",
      " [0. 0. 0. 1.]]\n"
     ]
    }
   ],
   "source": [
    "a = np.eye(4)\n",
    "print(a)"
   ]
  },
  {
   "cell_type": "markdown",
   "id": "corporate-genome",
   "metadata": {},
   "source": [
    "---\n",
    "\n",
    "### Exercise 6:\n",
    "Find the shape of a NumPy array.\n",
    "\n",
    "```python\n",
    "# Exercise 6\n",
    "```"
   ]
  },
  {
   "cell_type": "code",
   "execution_count": 258,
   "id": "welsh-dietary",
   "metadata": {},
   "outputs": [
    {
     "name": "stdout",
     "output_type": "stream",
     "text": [
      "(4, 4)\n"
     ]
    }
   ],
   "source": [
    "arr = np.eye(4)\n",
    "print(arr.shape)     # np.shape is use to get the shape"
   ]
  },
  {
   "cell_type": "markdown",
   "id": "bridal-excellence",
   "metadata": {},
   "source": [
    "---\n",
    "\n",
    "### Exercise 7:\n",
    "Reshape a 1D NumPy array of 16 elements into a 4x4 matrix.\n",
    "\n",
    "```python\n",
    "# Exercise 7\n",
    "```"
   ]
  },
  {
   "cell_type": "code",
   "execution_count": 89,
   "id": "conditional-special",
   "metadata": {},
   "outputs": [
    {
     "name": "stdout",
     "output_type": "stream",
     "text": [
      "[[ 0  1  2  3]\n",
      " [ 4  5  6  7]\n",
      " [ 8  9 10 11]\n",
      " [12 13 14 15]]\n"
     ]
    }
   ],
   "source": [
    "a = np.arange(16).reshape(4,4)   # to shape a 1D array to matrix 4 by 4\n",
    "print(a)"
   ]
  },
  {
   "cell_type": "markdown",
   "id": "declared-solid",
   "metadata": {},
   "source": [
    "---\n",
    "\n",
    "### Exercise 8:\n",
    "Find the data type of the elements in a NumPy array.\n",
    "\n",
    "```python\n",
    "# Exercise 8\n",
    "```"
   ]
  },
  {
   "cell_type": "code",
   "execution_count": 57,
   "id": "smooth-malpractice",
   "metadata": {},
   "outputs": [
    {
     "name": "stdout",
     "output_type": "stream",
     "text": [
      "int64\n"
     ]
    }
   ],
   "source": [
    "a = np.arange(16)\n",
    "a.reshape(4,4)\n",
    "print(x.dtype)   #x.dtype to get the type of the array"
   ]
  },
  {
   "cell_type": "markdown",
   "id": "immediate-oxide",
   "metadata": {},
   "source": [
    "---\n",
    "\n",
    "### Exercise 9:\n",
    "Create a NumPy array of integers from 1 to 100 and find all even numbers in the array.\n",
    "\n",
    "```python\n",
    "# Exercise 9\n",
    "```"
   ]
  },
  {
   "cell_type": "code",
   "execution_count": 67,
   "id": "understood-offer",
   "metadata": {},
   "outputs": [
    {
     "name": "stdout",
     "output_type": "stream",
     "text": [
      "[  2   4   6   8  10  12  14  16  18  20  22  24  26  28  30  32  34  36\n",
      "  38  40  42  44  46  48  50  52  54  56  58  60  62  64  66  68  70  72\n",
      "  74  76  78  80  82  84  86  88  90  92  94  96  98 100]\n"
     ]
    }
   ],
   "source": [
    "a = np.arange(2, 101, 2)      # The even number between the first 100 values is computed\n",
    "print(a)"
   ]
  },
  {
   "cell_type": "markdown",
   "id": "young-delicious",
   "metadata": {},
   "source": [
    "---\n",
    "\n",
    "### Exercise 10:\n",
    "Generate a 6x6 matrix of random integers between 10 and 50.\n",
    "\n",
    "```python\n",
    "# Exercise 10\n",
    "```"
   ]
  },
  {
   "cell_type": "code",
   "execution_count": 75,
   "id": "asian-buffer",
   "metadata": {},
   "outputs": [
    {
     "name": "stdout",
     "output_type": "stream",
     "text": [
      "[[15 31 42 40 20 42]\n",
      " [19 43 12 29 15 15]\n",
      " [19 20 13 29 10 12]\n",
      " [41 33 44 30 21 35]\n",
      " [19 40 20 48 16 33]\n",
      " [35 26 38 27 27 25]]\n"
     ]
    }
   ],
   "source": [
    "a = np.random.randint(10,50, size = (6,6))    # Random number between 10 and 50n is generated\n",
    "print(a)"
   ]
  },
  {
   "cell_type": "markdown",
   "id": "frequent-baking",
   "metadata": {},
   "source": [
    "---\n",
    "\n",
    "### Exercise 11:\n",
    "Slice a 2D NumPy array to extract a submatrix.\n",
    "\n",
    "```python\n",
    "# Exercise 11\n",
    "```"
   ]
  },
  {
   "cell_type": "code",
   "execution_count": 83,
   "id": "pretty-granny",
   "metadata": {},
   "outputs": [
    {
     "name": "stdout",
     "output_type": "stream",
     "text": [
      "[[1 2]\n",
      " [5 6]]\n"
     ]
    }
   ],
   "source": [
    "a = np.array([[1,2,3], [5,6,7]])\n",
    "\n",
    "b = a[:2, 0:2]                    #slicing an array out from an array given\n",
    "print(b)"
   ]
  },
  {
   "cell_type": "markdown",
   "id": "brave-irish",
   "metadata": {},
   "source": [
    "## ---\n",
    "\n",
    "### Exercise 12:\n",
    "Calculate the sum of all elements in a NumPy array.\n",
    "\n",
    "```python\n",
    "# Exercise 12\n",
    "```"
   ]
  },
  {
   "cell_type": "code",
   "execution_count": 91,
   "id": "related-column",
   "metadata": {},
   "outputs": [
    {
     "name": "stdout",
     "output_type": "stream",
     "text": [
      "[ 8  4 11]\n"
     ]
    }
   ],
   "source": [
    "a = np.array([1,2,3])\n",
    "b = np.array([7,2,8])\n",
    "print(a + b)                       # Adding the two array element-wise"
   ]
  },
  {
   "cell_type": "markdown",
   "id": "million-compiler",
   "metadata": {},
   "source": [
    "---\n",
    "\n",
    "### Exercise 13:\n",
    "Calculate the mean, median, and standard deviation of a NumPy array.\n",
    "\n",
    "```python\n",
    "# Exercise 13\n",
    "```"
   ]
  },
  {
   "cell_type": "code",
   "execution_count": 262,
   "id": "detected-negative",
   "metadata": {},
   "outputs": [
    {
     "name": "stdout",
     "output_type": "stream",
     "text": [
      "mean: 29.805555555555557 \n"
     ]
    }
   ],
   "source": [
    "a = np.random.randint(1,50, size = (6,6))\n",
    "print(f\"mean: {np.mean(a)} \")                 # The mean is computed"
   ]
  },
  {
   "cell_type": "code",
   "execution_count": 263,
   "id": "lasting-harvey",
   "metadata": {},
   "outputs": [
    {
     "name": "stdout",
     "output_type": "stream",
     "text": [
      "Median: 31.5 \n"
     ]
    }
   ],
   "source": [
    "print(f\"Median: { np.median(a)} \")            # The median is computed"
   ]
  },
  {
   "cell_type": "code",
   "execution_count": 264,
   "id": "differential-genome",
   "metadata": {},
   "outputs": [
    {
     "name": "stdout",
     "output_type": "stream",
     "text": [
      " Standard deviation: 14.721147759533721\n"
     ]
    }
   ],
   "source": [
    "print(f\" Standard deviation: {np.std(a)}\")     # The standard deviation is computed"
   ]
  },
  {
   "cell_type": "markdown",
   "id": "backed-administrator",
   "metadata": {},
   "source": [
    "---\n",
    "\n",
    "### Exercise 14:\n",
    "Find the maximum and minimum values in a NumPy array.\n",
    "\n",
    "```python\n",
    "# Exercise 14\n",
    "```"
   ]
  },
  {
   "cell_type": "code",
   "execution_count": 266,
   "id": "medieval-paint",
   "metadata": {
    "scrolled": true
   },
   "outputs": [
    {
     "name": "stdout",
     "output_type": "stream",
     "text": [
      "Maximun value: 47  \n",
      "\n"
     ]
    }
   ],
   "source": [
    "a = np.random.randint(1,50, size = (6,6))\n",
    "print(f\"Maximun value: {np.max(a)} \",\"\\n\")     # The maximum value is computed"
   ]
  },
  {
   "cell_type": "code",
   "execution_count": 267,
   "id": "overall-prophet",
   "metadata": {},
   "outputs": [
    {
     "name": "stdout",
     "output_type": "stream",
     "text": [
      "Minimum value: 1 \n"
     ]
    }
   ],
   "source": [
    "print(f\"Minimum value: { np.min(a)} \")          # The minimum value is computed"
   ]
  },
  {
   "cell_type": "markdown",
   "id": "ready-festival",
   "metadata": {},
   "source": [
    "---\n",
    "\n",
    "### Exercise 15:\n",
    "Create a NumPy array of 20 random integers and find the index of the maximum value.\n",
    "\n",
    "```python\n",
    "# Exercise 15\n",
    "```"
   ]
  },
  {
   "cell_type": "code",
   "execution_count": 268,
   "id": "modified-wrapping",
   "metadata": {},
   "outputs": [
    {
     "name": "stdout",
     "output_type": "stream",
     "text": [
      "[ 3  4 12 13  4 12 11  6 14  2  6 18 16  4 10  5  8  7 18  7]\n"
     ]
    }
   ],
   "source": [
    "a = np.random.randint(1, 20, size = 20)\n",
    "print(a)\n"
   ]
  },
  {
   "cell_type": "code",
   "execution_count": 269,
   "id": "brazilian-deputy",
   "metadata": {},
   "outputs": [
    {
     "name": "stdout",
     "output_type": "stream",
     "text": [
      "11\n"
     ]
    }
   ],
   "source": [
    "print(np.argmax(a))                    # The index of the maximum value is computed from the array"
   ]
  },
  {
   "cell_type": "markdown",
   "id": "sorted-purpose",
   "metadata": {},
   "source": [
    "---\n",
    "\n",
    "### Exercise 16:\n",
    "Create a NumPy array and reverse its elements.\n",
    "\n",
    "```python\n",
    "# Exercise 16\n",
    "```"
   ]
  },
  {
   "cell_type": "code",
   "execution_count": 270,
   "id": "ancient-ticket",
   "metadata": {},
   "outputs": [
    {
     "name": "stdout",
     "output_type": "stream",
     "text": [
      "[ 1 14 14 19 10  3 12  9  2 10  5 15  2 12  8 14 16  4 11 15]\n"
     ]
    }
   ],
   "source": [
    "a = np.random.randint(1, 20, size = 20)\n",
    "print(a)\n"
   ]
  },
  {
   "cell_type": "code",
   "execution_count": null,
   "id": "mineral-aquatic",
   "metadata": {},
   "outputs": [],
   "source": [
    "print(np.flip(a))          # The element of the  array is reversed"
   ]
  },
  {
   "cell_type": "markdown",
   "id": "published-masters",
   "metadata": {},
   "source": [
    "---\n",
    "\n",
    "### Exercise 17:\n",
    "Create a 3x3 matrix and multiply it element-wise by another 3x3 matrix.\n",
    "\n",
    "```python\n",
    "# Exercise 17\n",
    "```"
   ]
  },
  {
   "cell_type": "code",
   "execution_count": 142,
   "id": "conceptual-newman",
   "metadata": {},
   "outputs": [
    {
     "name": "stdout",
     "output_type": "stream",
     "text": [
      "[[  14  550   48]\n",
      " [ 792  252  588]\n",
      " [ 920   28 1748]]\n"
     ]
    }
   ],
   "source": [
    "a = np.random.randint(1,50, size = (3,3))\n",
    "b = np.random.randint(1,50, size = (3,3))\n",
    "print(np.multiply(a, b))                    #  The element of the two rray is multiplied element-wise"
   ]
  },
  {
   "cell_type": "markdown",
   "id": "sporting-optimization",
   "metadata": {},
   "source": [
    "---\n",
    "\n",
    "### Exercise 18:\n",
    "Create a diagonal matrix from a given 1D array.\n",
    "\n",
    "```python\n",
    "# Exercise 18\n",
    "```"
   ]
  },
  {
   "cell_type": "code",
   "execution_count": 144,
   "id": "administrative-secondary",
   "metadata": {},
   "outputs": [
    {
     "name": "stdout",
     "output_type": "stream",
     "text": [
      "[[2 0 0 0]\n",
      " [0 4 0 0]\n",
      " [0 0 6 0]\n",
      " [0 0 0 8]]\n"
     ]
    }
   ],
   "source": [
    "a = np.array([2,4,6,8])\n",
    "print(np.diag(a))           # The diagonal matrix is computed where there are non zero values at the diagonal"
   ]
  },
  {
   "cell_type": "markdown",
   "id": "bacterial-champagne",
   "metadata": {},
   "source": [
    "---\n",
    "\n",
    "### Exercise 19:\n",
    "Perform matrix multiplication on two 2D NumPy arrays.\n",
    "\n",
    "```python\n",
    "# Exercise 19\n",
    "```"
   ]
  },
  {
   "cell_type": "code",
   "execution_count": 163,
   "id": "composite-feelings",
   "metadata": {
    "scrolled": true
   },
   "outputs": [
    {
     "name": "stdout",
     "output_type": "stream",
     "text": [
      "[[ 55]\n",
      " [127]]\n"
     ]
    }
   ],
   "source": [
    "a = np.array([[1,2,3,4], [5,6,7,8]])\n",
    "b = np.array([[1],[4],[6],[7]])\n",
    "print(np.dot(a, b))            # Multiplying two matrix row by matrix not element-wise"
   ]
  },
  {
   "cell_type": "markdown",
   "id": "contrary-flush",
   "metadata": {},
   "source": [
    "---\n",
    "\n",
    "### Exercise 20:\n",
    "Flatten a 2D NumPy array into a 1D array.\n",
    "\n",
    "```python\n",
    "# Exercise 20\n",
    "```"
   ]
  },
  {
   "cell_type": "code",
   "execution_count": 272,
   "id": "framed-intent",
   "metadata": {},
   "outputs": [
    {
     "name": "stdout",
     "output_type": "stream",
     "text": [
      "[1 2 3 5 6 7]\n"
     ]
    }
   ],
   "source": [
    "a = np.array([[1,2,3], [5,6,7]])\n",
    "print(a.flatten())                # Converting 2D array to 1D"
   ]
  },
  {
   "cell_type": "markdown",
   "id": "disabled-enemy",
   "metadata": {},
   "source": [
    "---\n",
    "\n",
    "### Exercise 21:\n",
    "Stack two NumPy arrays vertically.\n",
    "\n",
    "```python\n",
    "# Exercise 21\n",
    "```"
   ]
  },
  {
   "cell_type": "code",
   "execution_count": 277,
   "id": "simple-stanford",
   "metadata": {},
   "outputs": [
    {
     "name": "stdout",
     "output_type": "stream",
     "text": [
      "[1 2 3]\n"
     ]
    }
   ],
   "source": [
    "a = np.array([1,2,3])\n",
    "b = np.array([4,5,6])\n",
    "print(a)\n",
    "c = np.vstack((a, b))    "
   ]
  },
  {
   "cell_type": "code",
   "execution_count": 274,
   "id": "refined-printing",
   "metadata": {},
   "outputs": [
    {
     "name": "stdout",
     "output_type": "stream",
     "text": [
      "[4 5 6]\n"
     ]
    }
   ],
   "source": [
    "print(b)"
   ]
  },
  {
   "cell_type": "code",
   "execution_count": 279,
   "id": "determined-organization",
   "metadata": {},
   "outputs": [
    {
     "name": "stdout",
     "output_type": "stream",
     "text": [
      "[[1 2 3]\n",
      " [4 5 6]]\n"
     ]
    }
   ],
   "source": [
    "c = np.vstack((a, b))            \n",
    "print(c)"
   ]
  },
  {
   "cell_type": "markdown",
   "id": "continuous-dairy",
   "metadata": {},
   "source": [
    "---\n",
    "\n",
    "### Exercise 22:\n",
    "Stack two NumPy arrays horizontally.\n",
    "\n",
    "```python\n",
    "# Exercise 22\n",
    "```"
   ]
  },
  {
   "cell_type": "code",
   "execution_count": 280,
   "id": "cosmetic-complaint",
   "metadata": {},
   "outputs": [
    {
     "name": "stdout",
     "output_type": "stream",
     "text": [
      "[1 2 3 4 5 6]\n"
     ]
    }
   ],
   "source": [
    "c = np.hstack((a, b))      # joining the two arrays together horizontally\n",
    "print(c)"
   ]
  },
  {
   "cell_type": "markdown",
   "id": "proper-preservation",
   "metadata": {},
   "source": [
    "---\n",
    "\n",
    "### Exercise 23:\n",
    "Split a NumPy array into multiple sub-arrays.\n",
    "\n",
    "```python\n",
    "# Exercise 23\n",
    "```"
   ]
  },
  {
   "cell_type": "code",
   "execution_count": 282,
   "id": "certified-tobago",
   "metadata": {},
   "outputs": [],
   "source": [
    "a = np.array([1,2,3,4,5,6,7,8,9])"
   ]
  },
  {
   "cell_type": "code",
   "execution_count": 283,
   "id": "agreed-amplifier",
   "metadata": {},
   "outputs": [
    {
     "name": "stdout",
     "output_type": "stream",
     "text": [
      "[array([1, 2, 3]), array([4, 5, 6]), array([7, 8, 9])]\n"
     ]
    }
   ],
   "source": [
    "print(np.split(a, 3))         # spliitting the array into 3 sub- array"
   ]
  },
  {
   "cell_type": "markdown",
   "id": "overall-crazy",
   "metadata": {},
   "source": [
    "## ---\n",
    "\n",
    "### Exercise 24:\n",
    "Generate a random NumPy array and round each element to two decimal places.\n",
    "\n",
    "```python\n",
    "# Exercise 24\n",
    "```"
   ]
  },
  {
   "cell_type": "code",
   "execution_count": 284,
   "id": "single-engineering",
   "metadata": {},
   "outputs": [],
   "source": [
    "a = np.asarray([.656,2.778,3.747, 4.2243,5.1234,6.8976])\n",
    "             "
   ]
  },
  {
   "cell_type": "code",
   "execution_count": 285,
   "id": "temporal-consultancy",
   "metadata": {},
   "outputs": [
    {
     "name": "stdout",
     "output_type": "stream",
     "text": [
      "[0.66 2.78 3.75 4.22 5.12 6.9 ]\n"
     ]
    }
   ],
   "source": [
    "print(np.round(a,2))    # rounding off the elements in the array to two decimal places"
   ]
  },
  {
   "cell_type": "markdown",
   "id": "whole-brake",
   "metadata": {},
   "source": [
    "---\n",
    "\n",
    "### Exercise 25:\n",
    "Find the unique elements of a NumPy array.\n",
    "\n",
    "```python\n",
    "# Exercise 25\n",
    "```"
   ]
  },
  {
   "cell_type": "code",
   "execution_count": 286,
   "id": "crazy-livestock",
   "metadata": {},
   "outputs": [],
   "source": [
    "a = np.array([1,2,2,2,3,5,5,6,7,6,9])"
   ]
  },
  {
   "cell_type": "code",
   "execution_count": null,
   "id": "specific-pakistan",
   "metadata": {},
   "outputs": [],
   "source": [
    "print(np.unique(a))                  # Printing the number that exist once (unique element)"
   ]
  },
  {
   "cell_type": "markdown",
   "id": "frequent-filter",
   "metadata": {},
   "source": [
    "---\n",
    "\n",
    "### Exercise 26:\n",
    "Replace all elements in a NumPy array that are less than a specific value with that value.\n",
    "\n",
    "```python\n",
    "# Exercise 26\n",
    "```"
   ]
  },
  {
   "cell_type": "code",
   "execution_count": 199,
   "id": "enormous-scoop",
   "metadata": {},
   "outputs": [
    {
     "name": "stdout",
     "output_type": "stream",
     "text": [
      "[10 10 10 10 10 10 10 10 10 10 11 12 13 14 15 16 17 18 19]\n"
     ]
    }
   ],
   "source": [
    "a = np.arange(1,20)\n",
    "num = 10\n",
    "a[a < num] = num       # Replacing all etries below 10 with 10        \n",
    "print(a)"
   ]
  },
  {
   "cell_type": "markdown",
   "id": "quality-bailey",
   "metadata": {},
   "source": [
    "---\n",
    "\n",
    "### Exercise 27:\n",
    "Find the cumulative sum of the elements in a NumPy array.\n",
    "\n",
    "```python\n",
    "# Exercise 27\n",
    "```"
   ]
  },
  {
   "cell_type": "code",
   "execution_count": 287,
   "id": "brazilian-secret",
   "metadata": {},
   "outputs": [
    {
     "name": "stdout",
     "output_type": "stream",
     "text": [
      "[ 1  2  3  4  5  6  7  8  9 10 11 12 13 14 15 16 17 18 19]\n"
     ]
    }
   ],
   "source": [
    "a = np.arange(1,20)\n",
    "print(a)"
   ]
  },
  {
   "cell_type": "code",
   "execution_count": 288,
   "id": "liquid-healthcare",
   "metadata": {},
   "outputs": [
    {
     "name": "stdout",
     "output_type": "stream",
     "text": [
      "[  1   3   6  10  15  21  28  36  45  55  66  78  91 105 120 136 153 171\n",
      " 190]\n"
     ]
    }
   ],
   "source": [
    "print(np.cumsum(a))     # Finding the cumulative sum of the element in the array"
   ]
  },
  {
   "cell_type": "markdown",
   "id": "frank-vienna",
   "metadata": {},
   "source": [
    "---\n",
    "\n",
    "### Exercise 28:\n",
    "Create a NumPy array and find the number of non-zero elements in it.\n",
    "\n",
    "```python\n",
    "# Exercise 28\n",
    "```"
   ]
  },
  {
   "cell_type": "code",
   "execution_count": 289,
   "id": "living-fitting",
   "metadata": {},
   "outputs": [
    {
     "name": "stdout",
     "output_type": "stream",
     "text": [
      "[0 2 0 0 4 5 6 7 8]\n"
     ]
    }
   ],
   "source": [
    "a = np.array([0,2,0,0,4,5,6,7,8])\n",
    "print(a)"
   ]
  },
  {
   "cell_type": "code",
   "execution_count": 290,
   "id": "hazardous-aaron",
   "metadata": {},
   "outputs": [
    {
     "name": "stdout",
     "output_type": "stream",
     "text": [
      "(array([1, 4, 5, 6, 7, 8]),)\n"
     ]
    }
   ],
   "source": [
    "print(np.nonzero(a))    # printing and excluding the zero's"
   ]
  },
  {
   "cell_type": "markdown",
   "id": "elder-loading",
   "metadata": {},
   "source": [
    "---\n",
    "\n",
    "### Exercise 29:\n",
    "Create a NumPy array of random integers and sort it in ascending order.\n",
    "\n",
    "```python\n",
    "# Exercise 29\n",
    "```"
   ]
  },
  {
   "cell_type": "code",
   "execution_count": 291,
   "id": "imported-reserve",
   "metadata": {},
   "outputs": [
    {
     "name": "stdout",
     "output_type": "stream",
     "text": [
      "[17  5 14 16  3  4  5 12  2 11  2  6 11 16 17  4 15 11 18  2]\n"
     ]
    }
   ],
   "source": [
    "a = np.random.randint(1,20, size = 20)\n",
    "print(a)"
   ]
  },
  {
   "cell_type": "code",
   "execution_count": 292,
   "id": "collective-disposition",
   "metadata": {},
   "outputs": [
    {
     "name": "stdout",
     "output_type": "stream",
     "text": [
      "[ 2  2  2  3  4  4  5  5  6 11 11 11 12 14 15 16 16 17 17 18]\n"
     ]
    }
   ],
   "source": [
    "print(np.sort(a))   # generating random numbers and arranging in ascending order"
   ]
  },
  {
   "cell_type": "markdown",
   "id": "associate-recorder",
   "metadata": {},
   "source": [
    "---\n",
    "\n",
    "### Exercise 30:\n",
    "Find the row-wise and column-wise sum of a 3x3 matrix.\n",
    "\n",
    "```python\n",
    "# Exercise 30\n",
    "```"
   ]
  },
  {
   "cell_type": "code",
   "execution_count": 215,
   "id": "comparative-milan",
   "metadata": {},
   "outputs": [
    {
     "name": "stdout",
     "output_type": "stream",
     "text": [
      "[ 6 18 12]\n"
     ]
    }
   ],
   "source": [
    "a = np.array([[1,2,3], [5,6,7],[1,2,9]])\n",
    "print(np.sum(a, axis = 1))"
   ]
  },
  {
   "cell_type": "code",
   "execution_count": 216,
   "id": "happy-program",
   "metadata": {},
   "outputs": [
    {
     "name": "stdout",
     "output_type": "stream",
     "text": [
      "[ 7 10 19]\n"
     ]
    }
   ],
   "source": [
    "print(np.sum(a, axis = 0))"
   ]
  },
  {
   "cell_type": "markdown",
   "id": "caring-heather",
   "metadata": {},
   "source": [
    "---\n",
    "\n",
    "### Exercise 31:\n",
    "Generate a 2D NumPy array with random values and normalize it (scale the values between 0 and 1).\n",
    "\n",
    "```python\n",
    "# Exercise 31\n",
    "```"
   ]
  },
  {
   "cell_type": "code",
   "execution_count": 259,
   "id": "asian-renaissance",
   "metadata": {},
   "outputs": [
    {
     "name": "stdout",
     "output_type": "stream",
     "text": [
      "[[0.07142857 0.         0.5       ]\n",
      " [0.71428571 0.71428571 0.        ]\n",
      " [1.         0.78571429 0.14285714]]\n"
     ]
    }
   ],
   "source": [
    "a = np.random.randint(5,20, size = (3,3))\n",
    "min_ = np.min(a)\n",
    "max_ = np.max(a)\n",
    "a_norm = (a - min_) / (max_ - min_)\n",
    "\n",
    "print(a_norm)"
   ]
  },
  {
   "cell_type": "markdown",
   "id": "desperate-delaware",
   "metadata": {},
   "source": [
    "---\n",
    "\n",
    "### Exercise 32:\n",
    "Create two NumPy arrays and find the dot product.\n",
    "\n",
    "```python\n",
    "# Exercise 32\n",
    "```"
   ]
  },
  {
   "cell_type": "code",
   "execution_count": 229,
   "id": "studied-french",
   "metadata": {},
   "outputs": [
    {
     "name": "stdout",
     "output_type": "stream",
     "text": [
      "[[308 218 221]\n",
      " [338 153 351]\n",
      " [400 288 301]]\n"
     ]
    }
   ],
   "source": [
    "a = np.random.randint(5,20, size = (3,3))\n",
    "b = np.random.randint(1,20, size = (3,3))\n",
    "print(np.dot(a,b))"
   ]
  },
  {
   "cell_type": "markdown",
   "id": "another-cisco",
   "metadata": {},
   "source": [
    "---\n",
    "\n",
    "### Exercise 33:\n",
    "Find the trace of a square NumPy matrix.\n",
    "\n",
    "```python\n",
    "# Exercise 33\n",
    "```"
   ]
  },
  {
   "cell_type": "code",
   "execution_count": 231,
   "id": "fancy-cooperation",
   "metadata": {},
   "outputs": [
    {
     "name": "stdout",
     "output_type": "stream",
     "text": [
      "45\n"
     ]
    }
   ],
   "source": [
    "a = np.random.randint(1,20, size = (4,4))\n",
    "print(np.trace(a))"
   ]
  },
  {
   "cell_type": "markdown",
   "id": "casual-greenhouse",
   "metadata": {},
   "source": [
    "---\n",
    "\n",
    "### Exercise 34:\n",
    "Create a 2D array and swap two rows.\n",
    "\n",
    "```python\n",
    "# Exercise 34\n",
    "```"
   ]
  },
  {
   "cell_type": "code",
   "execution_count": 235,
   "id": "indoor-forwarding",
   "metadata": {},
   "outputs": [
    {
     "name": "stdout",
     "output_type": "stream",
     "text": [
      "[[7 8 9]\n",
      " [4 5 6]\n",
      " [0 0 0]]\n"
     ]
    }
   ],
   "source": [
    "a = np.array([[1, 2, 3], [4, 5, 6], [7, 8, 9]])\n",
    "temp = np.copy([0])\n",
    "a[0] = a[2]\n",
    "a[2] = temp\n",
    "\n",
    "print(a)"
   ]
  },
  {
   "cell_type": "markdown",
   "id": "entertaining-civilization",
   "metadata": {},
   "source": [
    "---\n",
    "\n",
    "### Exercise 35:\n",
    "Create a 1D NumPy array and convert it into a column vector.\n",
    "\n",
    "```python\n",
    "# Exercise 35\n",
    "```"
   ]
  },
  {
   "cell_type": "code",
   "execution_count": 236,
   "id": "sophisticated-value",
   "metadata": {},
   "outputs": [
    {
     "name": "stdout",
     "output_type": "stream",
     "text": [
      "[[1]\n",
      " [2]\n",
      " [3]]\n"
     ]
    }
   ],
   "source": [
    "a = np.array([1,2,3])\n",
    "a_vec = a[:, None]      # this is create 1D into a column vector while that of row is [None]\n",
    "print(a_vec)"
   ]
  },
  {
   "cell_type": "markdown",
   "id": "treated-clerk",
   "metadata": {},
   "source": [
    "---\n",
    "\n",
    "### Exercise 36:\n",
    "Find the determinant of a 3x3 matrix.\n",
    "\n",
    "```python\n",
    "# Exercise 36\n",
    "```"
   ]
  },
  {
   "cell_type": "code",
   "execution_count": 240,
   "id": "original-emergency",
   "metadata": {},
   "outputs": [
    {
     "name": "stdout",
     "output_type": "stream",
     "text": [
      "361.99999999999983\n"
     ]
    }
   ],
   "source": [
    "a = np.random.randint(1,20, size = (3,3))\n",
    "print(np.linalg.det(a))"
   ]
  },
  {
   "cell_type": "markdown",
   "id": "individual-marker",
   "metadata": {},
   "source": [
    "---\n",
    "\n",
    "### Exercise 37:\n",
    "Find the eigenvalues and eigenvectors of a 2x2 matrix.\n",
    "\n",
    "```python\n",
    "# Exercise 37\n",
    "```"
   ]
  },
  {
   "cell_type": "code",
   "execution_count": 244,
   "id": "indonesian-charity",
   "metadata": {},
   "outputs": [
    {
     "name": "stdout",
     "output_type": "stream",
     "text": [
      "Eigenvalue:  [2. 0.]\n",
      "Eigenvector:  [[ 0.70710678 -0.70710678]\n",
      " [ 0.70710678  0.70710678]]\n"
     ]
    }
   ],
   "source": [
    "a = np.random.randint(1,2, size = (2,2))\n",
    "from numpy.linalg import eig\n",
    "w,v = eig(a)\n",
    "print(\"Eigenvalue: \", w)\n",
    "print(\"Eigenvector: \", v)"
   ]
  },
  {
   "cell_type": "markdown",
   "id": "surrounded-healthcare",
   "metadata": {},
   "source": [
    "---\n",
    "\n",
    "### Exercise 38:\n",
    "Solve a system of linear equations using NumPy.\n",
    "\n",
    "```python\n",
    "# Exercise 38\n",
    "```"
   ]
  },
  {
   "cell_type": "code",
   "execution_count": 248,
   "id": "provincial-registrar",
   "metadata": {},
   "outputs": [
    {
     "name": "stdout",
     "output_type": "stream",
     "text": [
      "[[-9.63461538]\n",
      " [ 2.42307692]\n",
      " [ 3.48076923]]\n"
     ]
    }
   ],
   "source": [
    "a = np.array([[3, 6, 7],[2, 1, 8],[1, 3, 7]])\n",
    "b = np.array([[10], [11], [22]])\n",
    "print(np.linalg.solve(a, b))"
   ]
  },
  {
   "cell_type": "markdown",
   "id": "supported-minute",
   "metadata": {},
   "source": [
    "---\n",
    "\n",
    "### Exercise 39:\n",
    "Add Gaussian noise to a NumPy array.\n",
    "\n",
    "```python\n",
    "# Exercise 39\n",
    "```"
   ]
  },
  {
   "cell_type": "code",
   "execution_count": 253,
   "id": "announced-geology",
   "metadata": {},
   "outputs": [
    {
     "name": "stdout",
     "output_type": "stream",
     "text": [
      "[[ 4.88988042 14.7714776  -3.98398392]\n",
      " [ 5.92779536  1.63495011 -1.84104106]\n",
      " [11.16427245  7.46031328 13.62198628]]\n"
     ]
    }
   ],
   "source": [
    "a = np.random.randint(1,10, size = (3,3))\n",
    "guassian_noise = np.random.normal(1,5, size = (3,3))    # (mean, std_deviation, shape)\n",
    "print(guassian_noise + a)"
   ]
  },
  {
   "cell_type": "markdown",
   "id": "photographic-stage",
   "metadata": {},
   "source": [
    "---\n",
    "\n",
    "### Exercise 40:\n",
    "Create a 4x4 matrix and extract the diagonal elements.\n",
    "\n",
    "```python\n",
    "# Exercise 40\n",
    "```"
   ]
  },
  {
   "cell_type": "code",
   "execution_count": 256,
   "id": "musical-millennium",
   "metadata": {},
   "outputs": [
    {
     "name": "stdout",
     "output_type": "stream",
     "text": [
      "[[6 8 4 8]\n",
      " [3 4 8 7]\n",
      " [4 4 8 1]\n",
      " [7 4 5 7]]\n"
     ]
    }
   ],
   "source": [
    "a = np.random.randint(1,10, size = (4,4))\n",
    "print(a)"
   ]
  },
  {
   "cell_type": "code",
   "execution_count": 257,
   "id": "personal-balloon",
   "metadata": {},
   "outputs": [
    {
     "name": "stdout",
     "output_type": "stream",
     "text": [
      "[6 4 8 7]\n"
     ]
    }
   ],
   "source": [
    "print(np.diag(a))"
   ]
  }
 ],
 "metadata": {
  "kernelspec": {
   "display_name": "Python 3",
   "language": "python",
   "name": "python3"
  },
  "language_info": {
   "codemirror_mode": {
    "name": "ipython",
    "version": 3
   },
   "file_extension": ".py",
   "mimetype": "text/x-python",
   "name": "python",
   "nbconvert_exporter": "python",
   "pygments_lexer": "ipython3",
   "version": "3.9.2"
  }
 },
 "nbformat": 4,
 "nbformat_minor": 5
}
