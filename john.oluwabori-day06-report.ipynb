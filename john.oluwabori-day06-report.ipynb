{
 "cells": [
  {
   "cell_type": "markdown",
   "id": "disciplinary-rachel",
   "metadata": {},
   "source": [
    "# Exercise 1\n",
    "Compute the following expressions for a natural number n chosen by the user:"
   ]
  },
  {
   "cell_type": "code",
   "execution_count": 25,
   "id": "british-steps",
   "metadata": {},
   "outputs": [
    {
     "name": "stdout",
     "output_type": "stream",
     "text": [
      "Enter any number: 5\n",
      "The number is odd\n"
     ]
    },
    {
     "data": {
      "text/plain": [
       "3"
      ]
     },
     "execution_count": 25,
     "metadata": {},
     "output_type": "execute_result"
    }
   ],
   "source": [
    "num1 = int(input(\"Enter any number: \"))\n",
    "if num1 % 2 == 0:\n",
    "    print(\"The number is even\")\n",
    "else:\n",
    "    print(\"The number is odd\")\n",
    "(i + 3)"
   ]
  },
  {
   "cell_type": "markdown",
   "id": "boolean-surgeon",
   "metadata": {},
   "source": [
    "# Exercise 2\n",
    "Write a program that reads the number of the day of the week (from 0 to 6). If it is a\n",
    "working day, then the program will write the name of the corresponding day. Otherwise,\n",
    "it will write the word \"Weekend\"."
   ]
  },
  {
   "cell_type": "code",
   "execution_count": 84,
   "id": "frequent-dayton",
   "metadata": {},
   "outputs": [
    {
     "name": "stdout",
     "output_type": "stream",
     "text": [
      "enter a number between 0 and 6: 7\n",
      "Invalid: Input a number between 0 and 6\n"
     ]
    }
   ],
   "source": [
    "x = int(input(\"enter a number between 0 and 6: \"))\n",
    "day_of_week = {0: \"Monday\", 1: \"Tuesday\", 2: \"Wednesday\", 3: \"Thursday\", 4: \"Friday\", 5: \"Saturday\", 6: \"Sunday\"}\n",
    "if 0<= x <= 6:\n",
    "    day = day_of_week[x]\n",
    "    print(f\"The day is: {day}\")\n",
    "    if 0 <= x <= 4:\n",
    "        print(f\"{day} is a 'working day'\")\n",
    "    else:\n",
    "        print(f\"{day} is 'weekend'\")\n",
    "else:\n",
    "    print(\"Invalid: Input a number between 0 and 6\")"
   ]
  },
  {
   "cell_type": "markdown",
   "id": "dimensional-trick",
   "metadata": {},
   "source": [
    "# Exercise 3 \n",
    "Make a program that, given a month number (from 0 to 11), indicates how many days it\n",
    "has (28, 30 or 31), ignoring the leap years."
   ]
  },
  {
   "cell_type": "code",
   "execution_count": 90,
   "id": "detailed-nightlife",
   "metadata": {},
   "outputs": [
    {
     "name": "stdout",
     "output_type": "stream",
     "text": [
      "Enter a number between 0 and 11: 3\n",
      "The month is: April\n",
      "April has 30 days\n"
     ]
    }
   ],
   "source": [
    "\n",
    "x = int(input(\"Enter a number between 0 and 11: \"))\n",
    "day_of_month = {0: (\"January\", 31), 1: (\"February\", 28), 2: (\"March\", 31), 3: (\"April\", 30), 4: (\"May\", 31),\n",
    "                5: (\"June\", 30),  6: (\"July\", 31), 7: (\"August\", 31), 8: (\"September\", 30), 9: (\"October\", 31),\n",
    "                10: (\"November\", 30), 11: (\"December\")}\n",
    "\n",
    "if 0 <= x <= 11:\n",
    "    month, days = day_of_month[x]\n",
    "    print(f\"The month is: {month}\")\n",
    "    print(f\"{month} has {days} days\")\n",
    "else:\n",
    "    print(\"Invalid input, please enter a number between 0 and 11.\")\n"
   ]
  },
  {
   "cell_type": "markdown",
   "id": "regulation-grace",
   "metadata": {},
   "source": [
    "# Exercise 4\n",
    "Write two versions of python code that displays your name 3 times. One version with a\n",
    "\"for loop\" and another version with a \"while loop"
   ]
  },
  {
   "cell_type": "code",
   "execution_count": 91,
   "id": "trained-council",
   "metadata": {},
   "outputs": [
    {
     "name": "stdout",
     "output_type": "stream",
     "text": [
      "John\n",
      "John\n",
      "John\n"
     ]
    }
   ],
   "source": [
    "# for loop\n",
    "name = \"John\"\n",
    "for i in range(3):\n",
    "    print(name)"
   ]
  },
  {
   "cell_type": "code",
   "execution_count": 96,
   "id": "introductory-russell",
   "metadata": {},
   "outputs": [
    {
     "name": "stdout",
     "output_type": "stream",
     "text": [
      "John\n",
      "John\n",
      "John\n"
     ]
    }
   ],
   "source": [
    "name = \"John\"\n",
    "i = 0\n",
    "while i < 3:\n",
    "    print(name)\n",
    "    i += 1"
   ]
  },
  {
   "cell_type": "markdown",
   "id": "specific-drilling",
   "metadata": {},
   "source": [
    "# Exercise 5\n",
    "Given two numbers a0 and a1, the Fibonacci sequence they generate is constructed from\n",
    "the recursion formula $a_{n+1} = a_n + a_{n−1}$. Calculate the first 15 terms of a Fibonacci\n",
    "sequence, asking the user the initial values."
   ]
  },
  {
   "cell_type": "code",
   "execution_count": 168,
   "id": "aware-treasury",
   "metadata": {},
   "outputs": [
    {
     "name": "stdout",
     "output_type": "stream",
     "text": [
      "Enter the first value: 1\n",
      "Enter the second value: 2\n",
      "2\n",
      "3\n",
      "5\n",
      "8\n",
      "13\n",
      "21\n",
      "34\n",
      "55\n",
      "89\n",
      "144\n",
      "233\n",
      "377\n",
      "610\n"
     ]
    }
   ],
   "source": [
    "a0 = int(input(\"Enter the first value: \"))\n",
    "a1 = int(input(\"Enter the second value: \"))\n",
    "n = 15\n",
    "if n < 0:\n",
    "    print(\"Error\")\n",
    "elif n == 0:\n",
    "    print(a0)\n",
    "elif n == 1:\n",
    "    print(a1)\n",
    "else:\n",
    "    for i in range(2,n):\n",
    "        a_n = a0 + a1\n",
    "        print(a1)\n",
    "        a0 = a1\n",
    "        a1 = a_n\n",
    "       "
   ]
  },
  {
   "cell_type": "markdown",
   "id": "heated-wireless",
   "metadata": {},
   "source": [
    "# Exercise 6\n",
    "Compute the first 30 terms of the sequence defined by $2x_{n+2} − x_{n+1} − 6x_n = 0$ sequence,\n",
    "given any two initial values x0 and x1"
   ]
  },
  {
   "cell_type": "code",
   "execution_count": 174,
   "id": "sustained-remains",
   "metadata": {},
   "outputs": [
    {
     "name": "stdout",
     "output_type": "stream",
     "text": [
      "Enter the first value: 1\n",
      "Enter the second value: 2\n",
      "The first 30 terms of the sequence are:\n",
      "[1, 2, 4.0, 8.0, 16.0, 32.0, 64.0, 128.0, 256.0, 512.0, 1024.0, 2048.0, 4096.0, 8192.0, 16384.0, 32768.0, 65536.0, 131072.0, 262144.0, 524288.0, 1048576.0, 2097152.0, 4194304.0, 8388608.0, 16777216.0, 33554432.0, 67108864.0, 134217728.0, 268435456.0, 536870912.0]\n"
     ]
    }
   ],
   "source": [
    "x0 = int(input(\"Enter the first value: \"))\n",
    "x1 = int(input(\"Enter the second value: \"))\n",
    "\n",
    "sequence = [x0, x1]\n",
    "\n",
    "n = 30\n",
    "for i in range(2, n):\n",
    "    x = (sequence[i-1] + 6 * sequence[i-2]) / 2\n",
    "    sequence.append(x)\n",
    "    \n",
    "print(\"The first 30 terms of the sequence are:\")\n",
    "print(sequence)"
   ]
  },
  {
   "cell_type": "markdown",
   "id": "spanish-packing",
   "metadata": {},
   "source": [
    "# Exercise 7a\n",
    "Write python code to determine whether or not a year is a leap year. Be sure you\n",
    "know what a leap year is."
   ]
  },
  {
   "cell_type": "code",
   "execution_count": 142,
   "id": "dangerous-indianapolis",
   "metadata": {},
   "outputs": [
    {
     "name": "stdout",
     "output_type": "stream",
     "text": [
      "Enter a year: 2020\n",
      "The year is a leap year\n"
     ]
    }
   ],
   "source": [
    "year = int(input(\"Enter a year: \"))\n",
    "if ((year % 400 == 0) or (year % 4 == 0 and year % 100 != 0)):\n",
    "    print(\"The year is a leap year\")\n",
    "else:\n",
    "    print(\"The year is not leap year\")"
   ]
  },
  {
   "cell_type": "markdown",
   "id": "academic-ready",
   "metadata": {},
   "source": [
    "# Exercise 7b\n",
    "Write the code using only logical operators, i.e. no conditional branching."
   ]
  },
  {
   "cell_type": "code",
   "execution_count": 178,
   "id": "chubby-spirit",
   "metadata": {},
   "outputs": [
    {
     "name": "stdout",
     "output_type": "stream",
     "text": [
      "Enter a year: 2020\n",
      "Is 2020 a leap year? True\n"
     ]
    }
   ],
   "source": [
    "year = int(input(\"Enter a year: \"))\n",
    "leap_year = (year % 400 == 0) or (year % 4 == 0 and year % 100 != 0)\n",
    "\n",
    "print(f\"Is {year} a leap year? {leap_year}\")"
   ]
  },
  {
   "cell_type": "markdown",
   "id": "sunset-female",
   "metadata": {},
   "source": [
    "# Exercise 8a\n",
    "Write python code that computes the sum of the square of the first n natural numbers.\n",
    "One version with a \"for loop\" and another version with a \"while loop\".\n"
   ]
  },
  {
   "cell_type": "code",
   "execution_count": 182,
   "id": "explicit-capability",
   "metadata": {
    "scrolled": true
   },
   "outputs": [
    {
     "name": "stdout",
     "output_type": "stream",
     "text": [
      "Enter a number: 5\n",
      "The sum of the squares from 1 to 5 is: 55\n"
     ]
    }
   ],
   "source": [
    "# for loop\n",
    "n = int(input(\"Enter a number: \"))\n",
    "sum_of_squares = 0\n",
    "for i in range(1, n+1):\n",
    "    sum_of_squares += (i * i)\n",
    "print(f\"The sum of the squares from 1 to {n} is: {sum_of_squares}\")"
   ]
  },
  {
   "cell_type": "code",
   "execution_count": 185,
   "id": "consistent-third",
   "metadata": {},
   "outputs": [
    {
     "name": "stdout",
     "output_type": "stream",
     "text": [
      "Enter a number: 5\n",
      "The sum of the squares from 1 to 5 is: 55\n"
     ]
    }
   ],
   "source": [
    "# while loop\n",
    "n = int(input(\"Enter a number: \"))\n",
    "sum_of_squares = 0\n",
    "i = 1\n",
    "while i <= n:\n",
    "    sum_of_squares += i * i \n",
    "    i += 1\n",
    "print(f\"The sum of the squares from 1 to {n} is: {sum_of_squares}\") "
   ]
  }
 ],
 "metadata": {
  "kernelspec": {
   "display_name": "Python 3",
   "language": "python",
   "name": "python3"
  },
  "language_info": {
   "codemirror_mode": {
    "name": "ipython",
    "version": 3
   },
   "file_extension": ".py",
   "mimetype": "text/x-python",
   "name": "python",
   "nbconvert_exporter": "python",
   "pygments_lexer": "ipython3",
   "version": "3.9.2"
  }
 },
 "nbformat": 4,
 "nbformat_minor": 5
}
